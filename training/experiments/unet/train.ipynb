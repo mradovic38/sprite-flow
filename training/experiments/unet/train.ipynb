{
 "cells": [
  {
   "cell_type": "markdown",
   "id": "d1beea7b0d1b4aa6",
   "metadata": {},
   "source": [
    "# 0. Imports"
   ]
  },
  {
   "cell_type": "code",
   "id": "95e2ec29-55d2-4a07-a3ac-e269e793206b",
   "metadata": {},
   "source": [
    "%cd ../../.."
   ],
   "outputs": [],
   "execution_count": null
  },
  {
   "cell_type": "code",
   "id": "initial_id",
   "metadata": {
    "ExecuteTime": {
     "end_time": "2025-08-24T18:42:48.324858Z",
     "start_time": "2025-08-24T18:42:45.822993Z"
    }
   },
   "source": [
    "import torch\n",
    "\n",
    "from sampling.conditional_probability_path import GaussianConditionalProbabilityPath\n",
    "from sampling.sampleable import PixelArtSampler\n",
    "from sampling.noise_scheduling import LinearAlpha, LinearBeta\n",
    "from models.unet import PixelArtUNet\n",
    "from training.trainer import UnguidedTrainer\n",
    "from training.evaluation import FID\n",
    "from training.ema import EMA\n",
    "from diff_eq.ode_sde import UnguidedVectorFieldODE\n",
    "from diff_eq.simulator import EulerSimulator\n",
    "from utils.visualization import visualize_training_logs, plot_generated_images\n",
    "from utils.helpers import clear_cuda, tensor_to_rgba_image, rgba_to_rgb, save_generated_assets, normalize_to_unit\n",
    "\n",
    "\n",
    "device = torch.device('cuda' if torch.cuda.is_available() else 'cpu')"
   ],
   "outputs": [],
   "execution_count": 2
  },
  {
   "cell_type": "markdown",
   "id": "15d6274bd2eaabd2",
   "metadata": {},
   "source": [
    "# 1. Train"
   ]
  },
  {
   "cell_type": "code",
   "id": "70527300bad06081",
   "metadata": {
    "jupyter": {
     "is_executing": true
    },
    "ExecuteTime": {
     "end_time": "2025-08-29T21:45:33.513530168Z",
     "start_time": "2025-08-29T21:45:24.180716Z"
    }
   },
   "source": [
    "clear_cuda()\n",
    "\n",
    "# Initialize probability path\n",
    "sampler = PixelArtSampler('dataset/images').to(device)\n",
    "path = GaussianConditionalProbabilityPath(\n",
    "    p_data=sampler,\n",
    "    p_simple_shape = [4, 128, 128],\n",
    "    alpha = LinearAlpha(),\n",
    "    beta = LinearBeta()\n",
    ").to(device)\n",
    "\n",
    "# Initialize model\n",
    "unet = PixelArtUNet(\n",
    "    channels = [128, 256, 512],\n",
    "    num_residual_layers = 2,\n",
    "    t_embed_dim = 128\n",
    ")\n",
    "\n",
    "ema = EMA(model=unet, max_decay=0.9998)\n",
    "\n",
    "# Initialize evaluation metric\n",
    "metric = FID(\n",
    "    feature=2048,\n",
    "    normalize=True,\n",
    "    image_size=(299, 299)\n",
    ")\n",
    "\n",
    "# Initialize trainer\n",
    "trainer = UnguidedTrainer(\n",
    "    path=path,\n",
    "    model=unet,\n",
    "    experiment_dir=\"training/experiments/unet\",\n",
    "    eval_metric=metric,\n",
    "    ema=ema,\n",
    ")\n",
    "\n",
    "# Train :D\n",
    "trainer.train(\n",
    "    device=device,\n",
    "    num_epochs=17000,\n",
    "    batch_size=64,\n",
    "    lr=1e-4,\n",
    "    lr_warmup_steps_frac=0.1,\n",
    "    val_batch_size=128,\n",
    "    num_val_batches=4,\n",
    "    validate_every=250,\n",
    "    val_timesteps=100,\n",
    "    resume=False,\n",
    "    num_images_to_save=10,\n",
    "    save_images_every=250,\n",
    ")"
   ],
   "outputs": [],
   "execution_count": null
  },
  {
   "cell_type": "markdown",
   "id": "1550a7fcf515849",
   "metadata": {},
   "source": [
    "# 2. Visualize model performance over time"
   ]
  },
  {
   "cell_type": "code",
   "id": "f6e4473f1c4dcbec",
   "metadata": {},
   "source": "visualize_training_logs(log_path=\"training/experiments/unet/training_log.csv\")",
   "outputs": [],
   "execution_count": null
  },
  {
   "cell_type": "markdown",
   "id": "c33ff8230cbdf0f8",
   "metadata": {},
   "source": [
    "# 3. Visualize results"
   ]
  },
  {
   "cell_type": "code",
   "id": "45ae061031325f8",
   "metadata": {},
   "source": [
    "num_samples = 4\n",
    "num_timesteps = 100\n",
    "device = torch.device(\"cuda\" if torch.cuda.is_available() else \"cpu\")\n",
    "\n",
    "# --- Load model from checkpoint ---\n",
    "cp = torch.load(\"training/experiments/unet/best_model.pt\", map_location=device)\n",
    "\n",
    "model = PixelArtUNet(\n",
    "    channels = [128, 256, 512],\n",
    "    num_residual_layers = 2,\n",
    "    t_embed_dim = 128\n",
    ").to(device)\n",
    "model.eval()\n",
    "\n",
    "# Restore EMA weights\n",
    "ema = EMA(model)\n",
    "ema.load_state_dict(cp[\"ema_state\"])\n",
    "ema.apply_shadow()   # now model has EMA weights\n",
    "\n",
    "# --- Setup path ---\n",
    "sampler = PixelArtSampler('dataset/images').to(device)\n",
    "path = GaussianConditionalProbabilityPath(\n",
    "    p_data=sampler,\n",
    "    p_simple_shape=[4, 128, 128],\n",
    "    alpha=LinearAlpha(),\n",
    "    beta=LinearBeta()\n",
    ").to(device)\n",
    "path.eval()\n",
    "\n",
    "# --- Simulate ---\n",
    "ts = torch.linspace(0, 1, num_timesteps).view(1, -1, 1, 1, 1).expand(num_samples, -1, 1, 1, 1).to(device)\n",
    "x0 = path.p_simple.sample(num_samples).to(device)  # (num_samples, 4, 128, 128)\n",
    "ode = UnguidedVectorFieldODE(model)\n",
    "simulator = EulerSimulator(ode)\n",
    "x1 = simulator.simulate(x0, ts)  # (num_samples, 4, 128, 128)\n",
    "\n",
    "x1 = normalize_to_unit(x1) # [-1, 1] -> [0, 1]\n",
    "\n",
    "# Save to assets\n",
    "imgs = tensor_to_rgba_image(x1)\n",
    "save_generated_assets(images=imgs, num_timesteps=num_timesteps)\n",
    "\n",
    "# Convert to RGB\n",
    "x1_rgb = rgba_to_rgb(x1)\n",
    "imgs_rgb = tensor_to_rgba_image(x1_rgb)\n",
    "plot_generated_images(imgs)"
   ],
   "outputs": [],
   "execution_count": null
  },
  {
   "cell_type": "markdown",
   "id": "76fe6c54-fe8b-4575-bcf7-4afc662fdb8d",
   "metadata": {},
   "source": [
    "# 4. Evaluate on the test set"
   ]
  },
  {
   "cell_type": "code",
   "id": "58441781-6a75-4e3a-ad69-5bbb4209c679",
   "metadata": {},
   "source": [
    "# Initialize model\n",
    "model = PixelArtUNet(\n",
    "    channels=[128, 256, 512],\n",
    "    num_residual_layers=2,\n",
    "    t_embed_dim=128,\n",
    ").to(device)\n",
    "model.eval()\n",
    "\n",
    "# --- Load checkpoint with EMA ---\n",
    "checkpoint_path = \"training/experiments/unet_mid_ema/best_model.pt\"\n",
    "cp = torch.load(checkpoint_path, map_location=device)\n",
    "\n",
    "ema.load_state_dict(cp[\"ema_state\"])\n",
    "\n",
    "# Path\n",
    "sampler = PixelArtSampler('dataset/images').to(device)\n",
    "path = GaussianConditionalProbabilityPath(\n",
    "    p_data=sampler,\n",
    "    p_simple_shape=[4, 128, 128],\n",
    "    alpha=LinearAlpha(),\n",
    "    beta=LinearBeta()\n",
    ").to(device)\n",
    "path.eval()\n",
    "\n",
    "# Evaluation metric\n",
    "metric = FID(\n",
    "    feature=2048,\n",
    "    normalize=True,\n",
    "    image_size=(299, 299)\n",
    ")\n",
    "\n",
    "# Trainer\n",
    "trainer = UnguidedTrainer(\n",
    "    path=path,\n",
    "    model=model,\n",
    "    experiment_dir=\"training/experiments/unet_mid_ema\",\n",
    "    eval_metric=metric,\n",
    "    ema=ema\n",
    ")\n",
    "\n",
    "# Evaluate on test set\n",
    "test_fid = trainer.evaluate(\n",
    "    batch_size=128,\n",
    "    device=device,\n",
    "    num_timesteps=100,\n",
    "    mode=\"test\"\n",
    ")\n",
    "\n",
    "print(f\"FID on the test set (100 timesteps): {test_fid:.4f}\")"
   ],
   "outputs": [],
   "execution_count": null
  }
 ],
 "metadata": {
  "kernelspec": {
   "display_name": "Python 3 (ipykernel)",
   "language": "python",
   "name": "python3"
  },
  "language_info": {
   "codemirror_mode": {
    "name": "ipython",
    "version": 3
   },
   "file_extension": ".py",
   "mimetype": "text/x-python",
   "name": "python",
   "nbconvert_exporter": "python",
   "pygments_lexer": "ipython3",
   "version": "3.11.11"
  }
 },
 "nbformat": 4,
 "nbformat_minor": 5
}
